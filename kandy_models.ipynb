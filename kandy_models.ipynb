{
  "nbformat": 4,
  "nbformat_minor": 0,
  "metadata": {
    "colab": {
      "provenance": [],
      "authorship_tag": "ABX9TyP49T2+F9MGjTHTQBQX8Ovg",
      "include_colab_link": true
    },
    "kernelspec": {
      "name": "python3",
      "display_name": "Python 3"
    },
    "language_info": {
      "name": "python"
    }
  },
  "cells": [
    {
      "cell_type": "markdown",
      "metadata": {
        "id": "view-in-github",
        "colab_type": "text"
      },
      "source": [
        "<a href=\"https://colab.research.google.com/github/Esandu-Meth-Obadaarachchi/HCHO-level-Time-series-forecasting/blob/main/kandy_models.ipynb\" target=\"_parent\"><img src=\"https://colab.research.google.com/assets/colab-badge.svg\" alt=\"Open In Colab\"/></a>"
      ]
    },
    {
      "cell_type": "code",
      "execution_count": null,
      "metadata": {
        "id": "pi57YtkS7GRK"
      },
      "outputs": [],
      "source": [
        "import warnings\n",
        "\n",
        "import matplotlib as mpl\n",
        "import numpy as np\n",
        "import pandas as pd  # Basic library for all of our dataset operations\n",
        "import statsmodels as sm\n",
        "import tensorflow as tf\n",
        "from matplotlib import pyplot as plt\n",
        "from pylab import rcParams\n",
        "from sklearn.linear_model import LinearRegression\n",
        "from statsmodels.graphics.tsaplots import plot_acf, plot_pacf\n",
        "from statsmodels.tsa import api as smt\n",
        "from statsmodels.tsa.seasonal import seasonal_decompose\n",
        "from statsmodels.tsa.stattools import adfuller\n"
      ]
    },
    {
      "cell_type": "code",
      "source": [
        "from google.colab import drive"
      ],
      "metadata": {
        "id": "Hj3vNLM272Jx"
      },
      "execution_count": null,
      "outputs": []
    },
    {
      "cell_type": "code",
      "source": [
        "from google.colab import drive\n",
        "drive.mount('/content/drive')"
      ],
      "metadata": {
        "id": "bU-G_VnY72MX"
      },
      "execution_count": null,
      "outputs": []
    },
    {
      "cell_type": "code",
      "source": [
        "kandy_full_csv_path = '/content/drive/MyDrive/data engineering CW/kandy_df_full.csv'"
      ],
      "metadata": {
        "id": "VfidoyXi72PN"
      },
      "execution_count": null,
      "outputs": []
    },
    {
      "cell_type": "code",
      "source": [
        "kandy_df = pd.read_csv(kandy_full_csv_path, header=0, index_col=0)"
      ],
      "metadata": {
        "id": "0enEv23172Rk"
      },
      "execution_count": null,
      "outputs": []
    },
    {
      "cell_type": "code",
      "source": [
        "kandy_df.set_index('Current Date', inplace=True)"
      ],
      "metadata": {
        "id": "4Q73A0nk72UL"
      },
      "execution_count": null,
      "outputs": []
    },
    {
      "cell_type": "code",
      "source": [
        "kandy_df.head()"
      ],
      "metadata": {
        "id": "RlTJI-OD72X0"
      },
      "execution_count": null,
      "outputs": []
    },
    {
      "cell_type": "code",
      "source": [
        "values = kandy_df.values\n",
        "groups = [0, 1, 2, 3, 4, 5, 6, 7]\n",
        "i = 1\n",
        "# plot each column\n",
        "for group in groups:\n",
        "    plt.subplot(len(groups), 1, i)\n",
        "    plt.plot(values[:, group])\n",
        "    plt.title(kandy_df.columns[group], y=0.5, loc='right')\n",
        "    i += 1\n",
        "\n",
        "\n",
        "plt.show()"
      ],
      "metadata": {
        "id": "c4d7UOHF72ac"
      },
      "execution_count": null,
      "outputs": []
    },
    {
      "cell_type": "code",
      "source": [
        "plt.figure(num=None, figsize=(30, 10), dpi=80, facecolor='w', edgecolor='k')\n",
        "plt.title('HCHO reading', fontsize=30)\n",
        "plt.plot(kandy_df['HCHO reading'])\n",
        "plt.xticks([])  # Remove x-axis ticks\n",
        "plt.show()"
      ],
      "metadata": {
        "id": "sRj_d_8O72dC"
      },
      "execution_count": null,
      "outputs": []
    },
    {
      "cell_type": "code",
      "source": [
        "import pandas as pd\n",
        "import matplotlib.pyplot as plt\n",
        "from statsmodels.tsa.seasonal import seasonal_decompose\n",
        "\n",
        "# Assuming colombo_df has a 'Date' column as the index and 'HCHO reading' as the time series data\n",
        "\n",
        "# Convert index to DatetimeIndex\n",
        "kandy_df.index = pd.to_datetime(colombo_df.index)\n",
        "\n",
        "# Perform seasonal decomposition\n",
        "result = seasonal_decompose(kandy_df['HCHO reading'], model='additive')\n",
        "\n",
        "# Plot the decomposed components\n",
        "plt.figure(figsize=(12, 8))\n",
        "plt.subplot(411)\n",
        "plt.plot(result.observed, label='Original')\n",
        "plt.legend(loc='upper left')\n",
        "\n",
        "plt.subplot(412)\n",
        "plt.plot(result.trend, label='Trend')\n",
        "plt.legend(loc='upper left')\n",
        "\n",
        "plt.subplot(413)\n",
        "plt.plot(result.seasonal, label='Seasonal')\n",
        "plt.legend(loc='upper left')\n",
        "\n",
        "plt.subplot(414)\n",
        "plt.plot(result.resid, label='Residual')\n",
        "plt.legend(loc='upper left')\n",
        "\n",
        "plt.tight_layout()\n",
        "plt.show()"
      ],
      "metadata": {
        "id": "h7Py0Yfs72gM"
      },
      "execution_count": null,
      "outputs": []
    },
    {
      "cell_type": "code",
      "source": [
        "import numpy as np\n",
        "import matplotlib.pyplot as plt\n",
        "from sklearn.linear_model import LinearRegression\n",
        "\n",
        "# Assuming colombo_df is your DataFrame containing the 'HCHO reading' data\n",
        "\n",
        "# Automatic decomposition\n",
        "result = seasonal_decompose(kandy_df['HCHO reading'], model='additive')\n",
        "\n",
        "# Moving average\n",
        "moving_avg = kandy_df['HCHO reading'].rolling(12).mean()\n",
        "\n",
        "# Fit a linear regression model\n",
        "X = np.arange(len(kandy_df)).reshape(-1, 1)\n",
        "y = kandy_df['HCHO reading'].values\n",
        "model = LinearRegression()\n",
        "model.fit(X, y)\n",
        "trend_lr = model.predict(X)\n",
        "\n",
        "# Plotting\n",
        "fig = plt.figure(figsize=(15, 7))\n",
        "layout = (3, 1)\n",
        "pm_ax = plt.subplot2grid(layout, (0, 0))\n",
        "mv_ax = plt.subplot2grid(layout, (1, 0))\n",
        "fit_ax = plt.subplot2grid(layout, (2, 0))\n",
        "\n",
        "pm_ax.plot(result.trend, label=\"Automatic decomposed trend\")\n",
        "pm_ax.set_title(\"Automatic Decomposed Trend\")\n",
        "\n",
        "mv_ax.plot(moving_avg, label=\"Moving average (12 steps)\")\n",
        "mv_ax.set_title(\"Moving Average (12 steps)\")\n",
        "\n",
        "fit_ax.plot(trend_lr, label=\"Trend fitted by linear regression\")\n",
        "fit_ax.set_title(\"Trend Fitted by Linear Regression\")\n",
        "\n",
        "plt.tight_layout()\n",
        "plt.show()"
      ],
      "metadata": {
        "id": "mQHCb0wm72if"
      },
      "execution_count": null,
      "outputs": []
    },
    {
      "cell_type": "code",
      "source": [
        "from statsmodels.tsa.seasonal import seasonal_decompose\n",
        "import matplotlib.pyplot as plt\n",
        "import pandas as pd\n",
        "\n",
        "# Set figure size\n",
        "plt.rcParams['figure.figsize'] = (18, 8)\n",
        "\n",
        "# Extracting the first year of data\n",
        "series = kandy_df['HCHO reading'][:365]\n",
        "\n",
        "# Perform seasonal decomposition\n",
        "result = seasonal_decompose(series, model='additive')\n",
        "\n",
        "# Plot the decomposed components\n",
        "result.plot()\n",
        "\n",
        "# Show the plot\n",
        "plt.show()"
      ],
      "metadata": {
        "id": "KpXCHUwW72k0"
      },
      "execution_count": null,
      "outputs": []
    },
    {
      "cell_type": "code",
      "source": [
        "# Convert 'HCHO reading' column to numeric, coerce errors to NaN\n",
        "kandy_df['HCHO reading'] = pd.to_numeric(kandy_df['HCHO reading'], errors='coerce')\n",
        "\n",
        "# Resample your DataFrame to weekly mean values for the 'HCHO reading' column only\n",
        "weekly_mean = kandy_df['HCHO reading'].resample('W').mean()\n",
        "\n",
        "# Plot the weekly mean values\n",
        "plt.figure(figsize=(15, 7))\n",
        "plt.plot(weekly_mean, label='Weekly mean')\n",
        "plt.title(\"Resampled series of 'HCHO reading' to weekly mean values\")\n",
        "plt.legend()\n",
        "plt.show()"
      ],
      "metadata": {
        "id": "fBYIZa6P72n9"
      },
      "execution_count": null,
      "outputs": []
    },
    {
      "cell_type": "code",
      "source": [
        "\n",
        "# Extracting the 'HCHO reading' column\n",
        "series = kandy_df['HCHO reading'].values\n",
        "\n",
        "# Define X values as days of the year (mod 365)\n",
        "X = [i % 365 for i in range(0, len(series))]\n",
        "y = series\n",
        "degree = 100\n",
        "\n",
        "# Fit polynomial\n",
        "coef = np.polyfit(X, y, degree)\n",
        "\n",
        "# Create curve\n",
        "curve = np.polyval(coef, X)\n",
        "\n",
        "# Plot curve over original data\n",
        "plt.plot(series, label='Original')\n",
        "plt.plot(curve, color='red', linewidth=3, label='Polynomial model')\n",
        "plt.legend()\n",
        "plt.title(\"Polynomial fit to find seasonality\")\n",
        "plt.show()"
      ],
      "metadata": {
        "id": "iGYZSbnr72qS"
      },
      "execution_count": null,
      "outputs": []
    },
    {
      "cell_type": "code",
      "source": [
        "from statsmodels.graphics.tsaplots import plot_acf\n",
        "\n",
        "# Set up figure and subplots\n",
        "fig = plt.figure(figsize=(12, 7))\n",
        "layout = (2, 2)\n",
        "hist_ax = plt.subplot2grid(layout, (0, 0))\n",
        "ac_ax = plt.subplot2grid(layout, (1, 0))\n",
        "hist_std_ax = plt.subplot2grid(layout, (0, 1))\n",
        "mean_ax = plt.subplot2grid(layout, (1, 1))\n",
        "\n",
        "# Plot histogram of the original series\n",
        "kandy_df['HCHO reading'].hist(ax=hist_ax)\n",
        "hist_ax.set_title(\"Original series histogram\")\n",
        "\n",
        "# Plot autocorrelation\n",
        "plot_acf(kandy_df['HCHO reading'], lags=30, ax=ac_ax)\n",
        "ac_ax.set_title(\"Autocorrelation\")\n",
        "\n",
        "# Calculate rolling standard deviation\n",
        "rolling_std = kandy_df['HCHO reading'].rolling(7).std()\n",
        "\n",
        "# Plot histogram of the rolling standard deviation\n",
        "rolling_std.hist(ax=hist_std_ax)\n",
        "hist_std_ax.set_title(\"Standard deviation histogram\")\n",
        "\n",
        "# Calculate rolling mean\n",
        "rolling_mean = kandy_df['HCHO reading'].rolling(30).mean()\n",
        "\n",
        "# Plot rolling mean\n",
        "rolling_mean.plot(ax=mean_ax)\n",
        "mean_ax.set_title(\"Mean over time\")\n",
        "\n",
        "# Adjust layout\n",
        "plt.tight_layout()\n",
        "\n",
        "# Show the plot\n",
        "plt.show()"
      ],
      "metadata": {
        "id": "yB68M2lo72r2"
      },
      "execution_count": null,
      "outputs": []
    },
    {
      "cell_type": "code",
      "source": [
        "from statsmodels.graphics.tsaplots import plot_acf, plot_pacf\n",
        "import matplotlib.pyplot as plt\n",
        "\n",
        "# Set up figure and subplots\n",
        "fig, (ax1, ax2) = plt.subplots(2, 1, figsize=(12, 8))\n",
        "\n",
        "# Plot autocorrelation\n",
        "plot_acf(kandy_df['HCHO reading'], lags=30, ax=ax1)\n",
        "ax1.set_title(\"Autocorrelation\")\n",
        "\n",
        "# Plot partial autocorrelation\n",
        "plot_pacf(kandy_df['HCHO reading'], lags=30, ax=ax2)\n",
        "ax2.set_title(\"Partial Autocorrelation\")\n",
        "\n",
        "# Adjust layout\n",
        "plt.tight_layout()\n",
        "\n",
        "# Show the plot\n",
        "plt.show()"
      ],
      "metadata": {
        "id": "3I9KESfH72vx"
      },
      "execution_count": null,
      "outputs": []
    },
    {
      "cell_type": "code",
      "source": [
        "# Determine rolling statistics\n",
        "rolmean = kandy_df['HCHO reading'].rolling(window=12).mean()\n",
        "rolstd = kandy_df['HCHO reading'].rolling(window=12).std()\n",
        "\n",
        "# Plot rolling statistics\n",
        "plt.figure(figsize=(12, 8))\n",
        "plt.plot(kandy_df['HCHO reading'], label='Original')\n",
        "plt.plot(rolmean, color='red', label='Rolling Mean')\n",
        "plt.plot(rolstd, color='black', label='Rolling Std')\n",
        "plt.legend(loc='best')\n",
        "plt.title('Rolling Mean & Standard Deviation')\n",
        "plt.xlabel('Date')\n",
        "plt.ylabel('HCHO Reading')\n",
        "plt.show()"
      ],
      "metadata": {
        "id": "UaaV4Zzr72xE"
      },
      "execution_count": null,
      "outputs": []
    },
    {
      "cell_type": "code",
      "source": [
        "from statsmodels.tsa.stattools import adfuller\n",
        "\n",
        "# Extract 'HCHO reading' data\n",
        "X = kandy_df['HCHO reading'].values\n",
        "\n",
        "# Perform Augmented Dickey-Fuller test\n",
        "result = adfuller(X)\n",
        "print('ADF Statistic:', result[0])\n",
        "print('p-value:', result[1])\n",
        "print('Critical Values:')\n",
        "for key, value in result[4].items():\n",
        "    print('\\t%s: %.3f' % (key, value))"
      ],
      "metadata": {
        "id": "CT2mOJAQ72zK"
      },
      "execution_count": null,
      "outputs": []
    },
    {
      "cell_type": "markdown",
      "source": [
        "# **Splitting the dataset**"
      ],
      "metadata": {
        "id": "Q0ALIeBA_NHg"
      }
    },
    {
      "cell_type": "code",
      "source": [
        "# Set the split date\n",
        "split_date = '2023-01-01'\n",
        "\n",
        "# Split the DataFrame into training and testing sets\n",
        "kandy_training = kandy_df.loc[kandy_df.index <= split_date]\n",
        "kandy_test = kandy_df.loc[kandy_df.index > split_date]\n",
        "\n",
        "# Print the lengths of the training and testing sets\n",
        "print(f\"{len(kandy_training)} days of training data \\n {len(kandy_test)} days of testing data \")\n",
        "\n",
        "# Save the training and testing sets to CSV files\n",
        "kandy_training.to_csv('/content/drive/MyDrive/data engineering CW/kandy_training.csv')\n",
        "kandy_test.to_csv('/content/drive/MyDrive/data engineering CW/kandy_test.csv')\n"
      ],
      "metadata": {
        "id": "x1SSHIJp721O"
      },
      "execution_count": null,
      "outputs": []
    },
    {
      "cell_type": "code",
      "source": [
        "from tqdm import tqdm  # Import tqdm for progress bar\n",
        "from statsmodels.tsa.ar_model import AutoReg\n",
        "from sklearn.metrics import mean_squared_error\n",
        "\n",
        "# Initialize dictionaries to store results and predictions\n",
        "resultsDict = {}\n",
        "predictionsDict = {}\n",
        "\n",
        "# Walk through the test data, training and predicting 1 day ahead for all the test data\n",
        "index = len(kandy_training)\n",
        "yhat = []\n",
        "\n",
        "for t in tqdm(range(len(kandy_test['HCHO reading']))):\n",
        "    temp_train = kandy_df['HCHO reading'][:len(kandy_training)+t]\n",
        "    model = AutoReg(temp_train, lags=1)  # You can adjust the number of lags as needed\n",
        "    model_fit = model.fit()\n",
        "    predictions = model_fit.predict(start=len(temp_train), end=len(temp_train))\n",
        "    yhat.append(predictions[0])\n",
        "\n",
        "yhat = pd.Series(yhat, index=kandy_test.index)\n",
        "resultsDict['AR'] = mean_squared_error(kandy_test['HCHO reading'], yhat)\n",
        "predictionsDict['AR'] = yhat"
      ],
      "metadata": {
        "id": "H3CBG_bf723F"
      },
      "execution_count": null,
      "outputs": []
    },
    {
      "cell_type": "code",
      "source": [
        "# Plot the results\n",
        "plt.plot(colombo_test['HCHO reading'].values, label='Original')\n",
        "plt.plot(yhat.values, color='red', label='AR predicted')\n",
        "plt.legend()\n",
        "plt.title('Original vs AR Predicted')\n",
        "plt.xlabel('Time')\n",
        "plt.ylabel('HCHO Reading')\n",
        "plt.show()"
      ],
      "metadata": {
        "id": "R4ScMd2k725I"
      },
      "execution_count": null,
      "outputs": []
    },
    {
      "cell_type": "code",
      "source": [],
      "metadata": {
        "id": "xSD2uCum727O"
      },
      "execution_count": null,
      "outputs": []
    }
  ]
}